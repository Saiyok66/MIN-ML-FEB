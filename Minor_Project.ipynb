{
  "nbformat": 4,
  "nbformat_minor": 0,
  "metadata": {
    "colab": {
      "name": "Minor-Project.ipynb",
      "provenance": [],
      "authorship_tag": "ABX9TyNLDa+j1irGAxjJNcvy6Huj",
      "include_colab_link": true
    },
    "kernelspec": {
      "name": "python3",
      "display_name": "Python 3"
    },
    "language_info": {
      "name": "python"
    }
  },
  "cells": [
    {
      "cell_type": "markdown",
      "metadata": {
        "id": "view-in-github",
        "colab_type": "text"
      },
      "source": [
        "<a href=\"https://colab.research.google.com/github/Saiyok66/MIN-ML-FEB/blob/main/Minor_Project.ipynb\" target=\"_parent\"><img src=\"https://colab.research.google.com/assets/colab-badge.svg\" alt=\"Open In Colab\"/></a>"
      ]
    },
    {
      "cell_type": "markdown",
      "metadata": {
        "id": "y_xISD7ZWLwN"
      },
      "source": [
        "**Project Name: Image Classification by Machine Larning**\n",
        "\n",
        "**Created By : Saiyok Bhattacherjee**"
      ]
    },
    {
      "cell_type": "code",
      "metadata": {
        "colab": {
          "base_uri": "https://localhost:8080/"
        },
        "id": "SV3rYEDxWCZH",
        "outputId": "73f068ba-d2d5-42e6-88f0-6fd69db621f8"
      },
      "source": [
        "#1. First Step :\n",
        "!pip install ipython_autotime\n",
        "%load_ext autotime"
      ],
      "execution_count": 1,
      "outputs": [
        {
          "output_type": "stream",
          "text": [
            "Collecting ipython_autotime\n",
            "  Downloading https://files.pythonhosted.org/packages/b4/c9/b413a24f759641bc27ef98c144b590023c8038dfb8a3f09e713e9dff12c1/ipython_autotime-0.3.1-py2.py3-none-any.whl\n",
            "Requirement already satisfied: ipython in /usr/local/lib/python3.7/dist-packages (from ipython_autotime) (5.5.0)\n",
            "Requirement already satisfied: pexpect; sys_platform != \"win32\" in /usr/local/lib/python3.7/dist-packages (from ipython->ipython_autotime) (4.8.0)\n",
            "Requirement already satisfied: setuptools>=18.5 in /usr/local/lib/python3.7/dist-packages (from ipython->ipython_autotime) (54.1.2)\n",
            "Requirement already satisfied: decorator in /usr/local/lib/python3.7/dist-packages (from ipython->ipython_autotime) (4.4.2)\n",
            "Requirement already satisfied: pygments in /usr/local/lib/python3.7/dist-packages (from ipython->ipython_autotime) (2.6.1)\n",
            "Requirement already satisfied: prompt-toolkit<2.0.0,>=1.0.4 in /usr/local/lib/python3.7/dist-packages (from ipython->ipython_autotime) (1.0.18)\n",
            "Requirement already satisfied: simplegeneric>0.8 in /usr/local/lib/python3.7/dist-packages (from ipython->ipython_autotime) (0.8.1)\n",
            "Requirement already satisfied: pickleshare in /usr/local/lib/python3.7/dist-packages (from ipython->ipython_autotime) (0.7.5)\n",
            "Requirement already satisfied: traitlets>=4.2 in /usr/local/lib/python3.7/dist-packages (from ipython->ipython_autotime) (5.0.5)\n",
            "Requirement already satisfied: ptyprocess>=0.5 in /usr/local/lib/python3.7/dist-packages (from pexpect; sys_platform != \"win32\"->ipython->ipython_autotime) (0.7.0)\n",
            "Requirement already satisfied: wcwidth in /usr/local/lib/python3.7/dist-packages (from prompt-toolkit<2.0.0,>=1.0.4->ipython->ipython_autotime) (0.2.5)\n",
            "Requirement already satisfied: six>=1.9.0 in /usr/local/lib/python3.7/dist-packages (from prompt-toolkit<2.0.0,>=1.0.4->ipython->ipython_autotime) (1.15.0)\n",
            "Requirement already satisfied: ipython-genutils in /usr/local/lib/python3.7/dist-packages (from traitlets>=4.2->ipython->ipython_autotime) (0.2.0)\n",
            "Installing collected packages: ipython-autotime\n",
            "Successfully installed ipython-autotime-0.3.1\n",
            "time: 3.49 ms (started: 2021-03-21 17:45:12 +00:00)\n"
          ],
          "name": "stdout"
        }
      ]
    },
    {
      "cell_type": "code",
      "metadata": {
        "colab": {
          "base_uri": "https://localhost:8080/"
        },
        "id": "1r-0rVbep53x",
        "outputId": "0fe3f2e3-3e4f-4143-bc9b-73495d437a96"
      },
      "source": [
        "#2. Second Step :\n",
        "!pip install bing_image_downloader"
      ],
      "execution_count": 2,
      "outputs": [
        {
          "output_type": "stream",
          "text": [
            "Collecting bing_image_downloader\n",
            "  Downloading https://files.pythonhosted.org/packages/0d/bf/537a61030b84ae4cd5022d5c7b014fd9bc3ce7c02358919153a6658a61d3/bing_image_downloader-1.0.4-py3-none-any.whl\n",
            "Installing collected packages: bing-image-downloader\n",
            "Successfully installed bing-image-downloader-1.0.4\n",
            "time: 3.25 s (started: 2021-03-21 17:45:15 +00:00)\n"
          ],
          "name": "stdout"
        }
      ]
    },
    {
      "cell_type": "code",
      "metadata": {
        "colab": {
          "base_uri": "https://localhost:8080/"
        },
        "id": "ixe-94qPp6T3",
        "outputId": "42a4e1c6-7865-49e4-9266-95c276da9a73"
      },
      "source": [
        "#3. Third Step :\n",
        "from bing_image_downloader import downloader"
      ],
      "execution_count": 3,
      "outputs": [
        {
          "output_type": "stream",
          "text": [
            "time: 22.1 ms (started: 2021-03-21 17:45:22 +00:00)\n"
          ],
          "name": "stdout"
        }
      ]
    },
    {
      "cell_type": "code",
      "metadata": {
        "colab": {
          "base_uri": "https://localhost:8080/"
        },
        "id": "x76a00Mup7zF",
        "outputId": "1c9c57a2-933c-49e7-95bc-7e32a267aae6"
      },
      "source": [
        "#4. Forth Step :\n",
        "#5. Downloading the First Image\n",
        "downloader.download(\"pretty sunflower\",limit = 60, output_dir = 'images', adult_filter_off = True)"
      ],
      "execution_count": 4,
      "outputs": [
        {
          "output_type": "stream",
          "text": [
            "\n",
            "\n",
            "[!!]Indexing page: 1\n",
            "\n",
            "[%] Indexed 12 Images on Page 1.\n",
            "\n",
            "===============================================\n",
            "\n",
            "[%] Downloading Image #1 from https://i.ytimg.com/vi/QznRCoSby9g/maxresdefault.jpg\n",
            "[%] File Downloaded !\n",
            "\n",
            "[%] Downloading Image #2 from http://cdn.shopify.com/s/files/1/1122/4336/products/Vevet_Queen_2_1024x1024.jpg?v=1454616220\n",
            "[%] File Downloaded !\n",
            "\n",
            "[%] Downloading Image #3 from https://emmalovesweddings.com/wp-content/uploads/2019/08/wedding-arch-and-aisle-ideas-with-sunflowers.jpg\n",
            "[%] File Downloaded !\n",
            "\n",
            "[%] Downloading Image #4 from https://68.media.tumblr.com/bcbfde908ca4876556280cd145b6df88/tumblr_nmja16eL8O1tcv5iwo1_500.jpg\n",
            "[%] File Downloaded !\n",
            "\n",
            "[%] Downloading Image #5 from https://i.pinimg.com/736x/8d/3a/d3/8d3ad3655d5efeb4f1f0c334a79e3f3f.jpg\n",
            "[%] File Downloaded !\n",
            "\n",
            "[%] Downloading Image #6 from https://i.pinimg.com/736x/52/87/bf/5287bf842b7bed0742a40d4d083f44ee--field-of-sunflowers-sunflower-fields.jpg\n",
            "[%] File Downloaded !\n",
            "\n",
            "[%] Downloading Image #7 from http://ohbestdayever.com/wp-content/uploads/2017/12/royal-blue-and-sunflower-yellow-wedding-centerpiece-ideas.jpg\n",
            "[%] File Downloaded !\n",
            "\n",
            "[%] Downloading Image #8 from https://i2.wp.com/www.ecstasycoffee.com/wp-content/uploads/2016/09/Pretty-sunflower-tattoo-design-with-a-bird-flying-above-it..jpg\n",
            "[%] File Downloaded !\n",
            "\n",
            "[%] Downloading Image #9 from https://cdn.wallpapersafari.com/14/10/sWz3dI.jpg\n",
            "[%] File Downloaded !\n",
            "\n",
            "[%] Downloading Image #10 from http://www.wallpapers13.com/wp-content/uploads/2016/01/Sunset_sunrise_landscapes_nature_flowers_fields_sunflowers-2560X1600-1680x1050.jpg\n",
            "[%] File Downloaded !\n",
            "\n",
            "[%] Downloading Image #11 from https://www.desktopbackground.org/download/720x1280/2012/12/21/502473_beautiful-sunflower-wallpapers-image_2560x1600_h.jpg\n",
            "[%] File Downloaded !\n",
            "\n",
            "[%] Downloading Image #12 from https://emmalovesweddings.com/wp-content/uploads/2019/08/sunflower-cascading-wedding-bouquet-ideas.jpg\n",
            "[%] File Downloaded !\n",
            "\n",
            "\n",
            "\n",
            "[!!]Indexing page: 2\n",
            "\n",
            "[%] Indexed 12 Images on Page 2.\n",
            "\n",
            "===============================================\n",
            "\n",
            "[%] Downloading Image #13 from https://i.ytimg.com/vi/QznRCoSby9g/maxresdefault.jpg\n",
            "[%] File Downloaded !\n",
            "\n",
            "[%] Downloading Image #14 from http://cdn.shopify.com/s/files/1/1122/4336/products/Vevet_Queen_2_1024x1024.jpg?v=1454616220\n",
            "[%] File Downloaded !\n",
            "\n",
            "[%] Downloading Image #15 from https://emmalovesweddings.com/wp-content/uploads/2019/08/wedding-arch-and-aisle-ideas-with-sunflowers.jpg\n",
            "[%] File Downloaded !\n",
            "\n",
            "[%] Downloading Image #16 from https://68.media.tumblr.com/bcbfde908ca4876556280cd145b6df88/tumblr_nmja16eL8O1tcv5iwo1_500.jpg\n",
            "[%] File Downloaded !\n",
            "\n",
            "[%] Downloading Image #17 from https://i.pinimg.com/736x/8d/3a/d3/8d3ad3655d5efeb4f1f0c334a79e3f3f.jpg\n",
            "[%] File Downloaded !\n",
            "\n",
            "[%] Downloading Image #18 from https://i.pinimg.com/736x/52/87/bf/5287bf842b7bed0742a40d4d083f44ee--field-of-sunflowers-sunflower-fields.jpg\n",
            "[%] File Downloaded !\n",
            "\n",
            "[%] Downloading Image #19 from http://ohbestdayever.com/wp-content/uploads/2017/12/royal-blue-and-sunflower-yellow-wedding-centerpiece-ideas.jpg\n",
            "[%] File Downloaded !\n",
            "\n",
            "[%] Downloading Image #20 from https://i2.wp.com/www.ecstasycoffee.com/wp-content/uploads/2016/09/Pretty-sunflower-tattoo-design-with-a-bird-flying-above-it..jpg\n",
            "[%] File Downloaded !\n",
            "\n",
            "[%] Downloading Image #21 from https://cdn.wallpapersafari.com/14/10/sWz3dI.jpg\n",
            "[%] File Downloaded !\n",
            "\n",
            "[%] Downloading Image #22 from http://www.wallpapers13.com/wp-content/uploads/2016/01/Sunset_sunrise_landscapes_nature_flowers_fields_sunflowers-2560X1600-1680x1050.jpg\n",
            "[%] File Downloaded !\n",
            "\n",
            "[%] Downloading Image #23 from https://www.desktopbackground.org/download/720x1280/2012/12/21/502473_beautiful-sunflower-wallpapers-image_2560x1600_h.jpg\n",
            "[%] File Downloaded !\n",
            "\n",
            "[%] Downloading Image #24 from https://emmalovesweddings.com/wp-content/uploads/2019/08/sunflower-cascading-wedding-bouquet-ideas.jpg\n",
            "[%] File Downloaded !\n",
            "\n",
            "\n",
            "\n",
            "[!!]Indexing page: 3\n",
            "\n",
            "[%] Indexed 11 Images on Page 3.\n",
            "\n",
            "===============================================\n",
            "\n",
            "[%] Downloading Image #25 from https://68.media.tumblr.com/bcbfde908ca4876556280cd145b6df88/tumblr_nmja16eL8O1tcv5iwo1_500.jpg\n",
            "[%] File Downloaded !\n",
            "\n",
            "[%] Downloading Image #26 from http://ohbestdayever.com/wp-content/uploads/2017/12/royal-blue-and-sunflower-yellow-wedding-centerpiece-ideas.jpg\n",
            "[%] File Downloaded !\n",
            "\n",
            "[%] Downloading Image #27 from https://i.pinimg.com/736x/52/87/bf/5287bf842b7bed0742a40d4d083f44ee--field-of-sunflowers-sunflower-fields.jpg\n",
            "[%] File Downloaded !\n",
            "\n",
            "[%] Downloading Image #28 from https://emmalovesweddings.com/wp-content/uploads/2019/08/sunflower-cascading-wedding-bouquet-ideas.jpg\n",
            "[%] File Downloaded !\n",
            "\n",
            "[%] Downloading Image #29 from https://i2.wp.com/www.ecstasycoffee.com/wp-content/uploads/2016/09/Pretty-sunflower-tattoo-design-with-a-bird-flying-above-it..jpg\n",
            "[%] File Downloaded !\n",
            "\n",
            "[%] Downloading Image #30 from https://cdn.wallpapersafari.com/14/10/sWz3dI.jpg\n",
            "[%] File Downloaded !\n",
            "\n",
            "[%] Downloading Image #31 from http://www.wallpapers13.com/wp-content/uploads/2016/01/Sunset_sunrise_landscapes_nature_flowers_fields_sunflowers-2560X1600-1680x1050.jpg\n",
            "[%] File Downloaded !\n",
            "\n",
            "[%] Downloading Image #32 from https://www.desktopbackground.org/download/720x1280/2012/12/21/502473_beautiful-sunflower-wallpapers-image_2560x1600_h.jpg\n",
            "[%] File Downloaded !\n",
            "\n",
            "[%] Downloading Image #33 from https://emmalovesweddings.com/wp-content/uploads/2019/08/wedding-arch-and-aisle-ideas-with-sunflowers.jpg\n",
            "[%] File Downloaded !\n",
            "\n",
            "[%] Downloading Image #34 from http://cdn.shopify.com/s/files/1/1122/4336/products/Vevet_Queen_2_1024x1024.jpg?v=1454616220\n",
            "[%] File Downloaded !\n",
            "\n",
            "[%] Downloading Image #35 from https://i.pinimg.com/736x/8d/3a/d3/8d3ad3655d5efeb4f1f0c334a79e3f3f.jpg\n",
            "[%] File Downloaded !\n",
            "\n",
            "\n",
            "\n",
            "[!!]Indexing page: 4\n",
            "\n",
            "[%] Indexed 10 Images on Page 4.\n",
            "\n",
            "===============================================\n",
            "\n",
            "[%] Downloading Image #36 from https://i.pinimg.com/736x/52/87/bf/5287bf842b7bed0742a40d4d083f44ee--field-of-sunflowers-sunflower-fields.jpg\n",
            "[%] File Downloaded !\n",
            "\n",
            "[%] Downloading Image #37 from https://emmalovesweddings.com/wp-content/uploads/2019/08/sunflower-cascading-wedding-bouquet-ideas.jpg\n",
            "[%] File Downloaded !\n",
            "\n",
            "[%] Downloading Image #38 from https://i2.wp.com/www.ecstasycoffee.com/wp-content/uploads/2016/09/Pretty-sunflower-tattoo-design-with-a-bird-flying-above-it..jpg\n",
            "[%] File Downloaded !\n",
            "\n",
            "[%] Downloading Image #39 from https://www.desktopbackground.org/download/720x1280/2012/12/21/502473_beautiful-sunflower-wallpapers-image_2560x1600_h.jpg\n",
            "[%] File Downloaded !\n",
            "\n",
            "[%] Downloading Image #40 from https://emmalovesweddings.com/wp-content/uploads/2019/08/wedding-arch-and-aisle-ideas-with-sunflowers.jpg\n",
            "[%] File Downloaded !\n",
            "\n",
            "[%] Downloading Image #41 from http://cdn.shopify.com/s/files/1/1122/4336/products/Vevet_Queen_2_1024x1024.jpg?v=1454616220\n",
            "[%] File Downloaded !\n",
            "\n",
            "[%] Downloading Image #42 from https://i.pinimg.com/736x/8d/3a/d3/8d3ad3655d5efeb4f1f0c334a79e3f3f.jpg\n",
            "[%] File Downloaded !\n",
            "\n",
            "[%] Downloading Image #43 from https://cdn.wallpapersafari.com/14/10/sWz3dI.jpg\n",
            "[%] File Downloaded !\n",
            "\n",
            "[%] Downloading Image #44 from http://www.wallpapers13.com/wp-content/uploads/2016/01/Sunset_sunrise_landscapes_nature_flowers_fields_sunflowers-2560X1600-1680x1050.jpg\n",
            "[%] File Downloaded !\n",
            "\n",
            "[%] Downloading Image #45 from http://ohbestdayever.com/wp-content/uploads/2017/12/royal-blue-and-sunflower-yellow-wedding-centerpiece-ideas.jpg\n",
            "[%] File Downloaded !\n",
            "\n",
            "\n",
            "\n",
            "[!!]Indexing page: 5\n",
            "\n",
            "[%] Indexed 9 Images on Page 5.\n",
            "\n",
            "===============================================\n",
            "\n",
            "[%] Downloading Image #46 from https://i2.wp.com/www.ecstasycoffee.com/wp-content/uploads/2016/09/Pretty-sunflower-tattoo-design-with-a-bird-flying-above-it..jpg\n",
            "[%] File Downloaded !\n",
            "\n",
            "[%] Downloading Image #47 from https://emmalovesweddings.com/wp-content/uploads/2019/08/sunflower-cascading-wedding-bouquet-ideas.jpg\n",
            "[%] File Downloaded !\n",
            "\n",
            "[%] Downloading Image #48 from https://www.desktopbackground.org/download/720x1280/2012/12/21/502473_beautiful-sunflower-wallpapers-image_2560x1600_h.jpg\n",
            "[%] File Downloaded !\n",
            "\n",
            "[%] Downloading Image #49 from http://cdn.shopify.com/s/files/1/1122/4336/products/Vevet_Queen_2_1024x1024.jpg?v=1454616220\n",
            "[%] File Downloaded !\n",
            "\n",
            "[%] Downloading Image #50 from https://emmalovesweddings.com/wp-content/uploads/2019/08/wedding-arch-and-aisle-ideas-with-sunflowers.jpg\n",
            "[%] File Downloaded !\n",
            "\n",
            "[%] Downloading Image #51 from https://cdn.wallpapersafari.com/14/10/sWz3dI.jpg\n",
            "[%] File Downloaded !\n",
            "\n",
            "[%] Downloading Image #52 from http://www.wallpapers13.com/wp-content/uploads/2016/01/Sunset_sunrise_landscapes_nature_flowers_fields_sunflowers-2560X1600-1680x1050.jpg\n",
            "[%] File Downloaded !\n",
            "\n",
            "[%] Downloading Image #53 from https://i.pinimg.com/736x/8d/3a/d3/8d3ad3655d5efeb4f1f0c334a79e3f3f.jpg\n",
            "[%] File Downloaded !\n",
            "\n",
            "[%] Downloading Image #54 from http://ohbestdayever.com/wp-content/uploads/2017/12/royal-blue-and-sunflower-yellow-wedding-centerpiece-ideas.jpg\n",
            "[%] File Downloaded !\n",
            "\n",
            "\n",
            "\n",
            "[!!]Indexing page: 6\n",
            "\n",
            "[%] Indexed 8 Images on Page 6.\n",
            "\n",
            "===============================================\n",
            "\n",
            "[%] Downloading Image #55 from https://www.desktopbackground.org/download/720x1280/2012/12/21/502473_beautiful-sunflower-wallpapers-image_2560x1600_h.jpg\n",
            "[%] File Downloaded !\n",
            "\n",
            "[%] Downloading Image #56 from http://www.wallpapers13.com/wp-content/uploads/2016/01/Sunset_sunrise_landscapes_nature_flowers_fields_sunflowers-2560X1600-1680x1050.jpg\n",
            "[%] File Downloaded !\n",
            "\n",
            "[%] Downloading Image #57 from http://cdn.shopify.com/s/files/1/1122/4336/products/Vevet_Queen_2_1024x1024.jpg?v=1454616220\n",
            "[%] File Downloaded !\n",
            "\n",
            "[%] Downloading Image #58 from https://emmalovesweddings.com/wp-content/uploads/2019/08/wedding-arch-and-aisle-ideas-with-sunflowers.jpg\n",
            "[%] File Downloaded !\n",
            "\n",
            "[%] Downloading Image #59 from https://cdn.wallpapersafari.com/14/10/sWz3dI.jpg\n",
            "[%] File Downloaded !\n",
            "\n",
            "[%] Downloading Image #60 from http://ohbestdayever.com/wp-content/uploads/2017/12/royal-blue-and-sunflower-yellow-wedding-centerpiece-ideas.jpg\n",
            "[%] File Downloaded !\n",
            "\n",
            "\n",
            "\n",
            "[%] Done. Downloaded 60 images.\n",
            "\n",
            "===============================================\n",
            "\n",
            "time: 34.9 s (started: 2021-03-21 17:45:28 +00:00)\n"
          ],
          "name": "stdout"
        }
      ]
    },
    {
      "cell_type": "code",
      "metadata": {
        "colab": {
          "base_uri": "https://localhost:8080/"
        },
        "id": "rX1rxE-2p8An",
        "outputId": "b7815466-0b7b-41c4-eec3-daf83dc7478d"
      },
      "source": [
        "#6. Downloading the Second Image\n",
        "downloader.download(\"ice cream cone\",limit = 30, output_dir = 'images', adult_filter_off = True)"
      ],
      "execution_count": 6,
      "outputs": [
        {
          "output_type": "stream",
          "text": [
            "\n",
            "\n",
            "[!!]Indexing page: 1\n",
            "\n",
            "[%] Indexed 11 Images on Page 1.\n",
            "\n",
            "===============================================\n",
            "\n",
            "[%] Downloading Image #1 from https://c1.staticflickr.com/5/4030/5076899310_67b9566ac8_b.jpg\n",
            "[%] File Downloaded !\n",
            "\n",
            "[%] Downloading Image #2 from https://i.pinimg.com/736x/29/90/1d/29901d5e64708a03f4f65bd86400ed76.jpg\n",
            "[%] File Downloaded !\n",
            "\n",
            "[%] Downloading Image #3 from https://i.ytimg.com/vi/9TQ1ATwHti0/maxresdefault.jpg\n",
            "[%] File Downloaded !\n",
            "\n",
            "[%] Downloading Image #4 from https://i.pinimg.com/736x/9f/d2/10/9fd210400622b786109fe87c8586bb6c--paulette-royals.jpg\n",
            "[%] File Downloaded !\n",
            "\n",
            "[%] Downloading Image #5 from http://thefancy-media-ec3.thefancy.com/original/20110902/260782783_854ed8477672.jpg\n",
            "[%] File Downloaded !\n",
            "\n",
            "[%] Downloading Image #6 from https://cdn.drawception.com/drawings/4XC74xT6O5.png\n",
            "[%] File Downloaded !\n",
            "\n",
            "[%] Downloading Image #7 from http://www.disneyfoodblog.com/wp-content/uploads/2018/11/Gibson-Girl-Christmas-Holiday-Peppermint-Sundae-2018-001.jpg\n",
            "[%] File Downloaded !\n",
            "\n",
            "[%] Downloading Image #8 from http://i1.wp.com/cakeisnotalie.net/wp-content/uploads/2018/01/HorseWithAnIceCreamCone.jpg\n",
            "[%] File Downloaded !\n",
            "\n",
            "[%] Downloading Image #9 from https://clipartion.com/wp-content/uploads/2015/11/ice-cream-social-free-clipart-free-clip-art-images-830x1462.png\n",
            "[%] File Downloaded !\n",
            "\n",
            "[%] Downloading Image #10 from https://cdn.cltampa.com/files/base/scomm/cltampa/image/2016/09/9x16/960w/Server_lights_a_Black_Rock_Volcano_dessert__Brownie_with_ice_cream__marshmellow__waffle_cone__and_whipped_cream_drizzled_with_caramel_and_chocolate_sauce.57cd8a3c70dcd.jpg\n",
            "[%] File Downloaded !\n",
            "\n",
            "[%] Downloading Image #11 from https://www.birthdaycakeshop.com.au/wp-content/uploads/2018/08/ucone1.jpg\n",
            "[%] File Downloaded !\n",
            "\n",
            "\n",
            "\n",
            "[!!]Indexing page: 2\n",
            "\n",
            "[%] Indexed 11 Images on Page 2.\n",
            "\n",
            "===============================================\n",
            "\n",
            "[%] Downloading Image #12 from https://c1.staticflickr.com/5/4030/5076899310_67b9566ac8_b.jpg\n",
            "[%] File Downloaded !\n",
            "\n",
            "[%] Downloading Image #13 from https://i.pinimg.com/736x/29/90/1d/29901d5e64708a03f4f65bd86400ed76.jpg\n",
            "[%] File Downloaded !\n",
            "\n",
            "[%] Downloading Image #14 from https://i.ytimg.com/vi/9TQ1ATwHti0/maxresdefault.jpg\n",
            "[%] File Downloaded !\n",
            "\n",
            "[%] Downloading Image #15 from https://i.pinimg.com/736x/9f/d2/10/9fd210400622b786109fe87c8586bb6c--paulette-royals.jpg\n",
            "[%] File Downloaded !\n",
            "\n",
            "[%] Downloading Image #16 from http://thefancy-media-ec3.thefancy.com/original/20110902/260782783_854ed8477672.jpg\n",
            "[%] File Downloaded !\n",
            "\n",
            "[%] Downloading Image #17 from https://cdn.drawception.com/drawings/4XC74xT6O5.png\n",
            "[%] File Downloaded !\n",
            "\n",
            "[%] Downloading Image #18 from http://www.disneyfoodblog.com/wp-content/uploads/2018/11/Gibson-Girl-Christmas-Holiday-Peppermint-Sundae-2018-001.jpg\n",
            "[%] File Downloaded !\n",
            "\n",
            "[%] Downloading Image #19 from http://i1.wp.com/cakeisnotalie.net/wp-content/uploads/2018/01/HorseWithAnIceCreamCone.jpg\n",
            "[%] File Downloaded !\n",
            "\n",
            "[%] Downloading Image #20 from https://clipartion.com/wp-content/uploads/2015/11/ice-cream-social-free-clipart-free-clip-art-images-830x1462.png\n",
            "[%] File Downloaded !\n",
            "\n",
            "[%] Downloading Image #21 from https://cdn.cltampa.com/files/base/scomm/cltampa/image/2016/09/9x16/960w/Server_lights_a_Black_Rock_Volcano_dessert__Brownie_with_ice_cream__marshmellow__waffle_cone__and_whipped_cream_drizzled_with_caramel_and_chocolate_sauce.57cd8a3c70dcd.jpg\n",
            "[%] File Downloaded !\n",
            "\n",
            "[%] Downloading Image #22 from https://www.birthdaycakeshop.com.au/wp-content/uploads/2018/08/ucone1.jpg\n",
            "[%] File Downloaded !\n",
            "\n",
            "\n",
            "\n",
            "[!!]Indexing page: 3\n",
            "\n",
            "[%] Indexed 10 Images on Page 3.\n",
            "\n",
            "===============================================\n",
            "\n",
            "[%] Downloading Image #23 from https://i.ytimg.com/vi/9TQ1ATwHti0/maxresdefault.jpg\n",
            "[%] File Downloaded !\n",
            "\n",
            "[%] Downloading Image #24 from https://cdn.drawception.com/drawings/4XC74xT6O5.png\n",
            "[%] File Downloaded !\n",
            "\n",
            "[%] Downloading Image #25 from https://i.pinimg.com/736x/29/90/1d/29901d5e64708a03f4f65bd86400ed76.jpg\n",
            "[%] File Downloaded !\n",
            "\n",
            "[%] Downloading Image #26 from http://thefancy-media-ec3.thefancy.com/original/20110902/260782783_854ed8477672.jpg\n",
            "[%] File Downloaded !\n",
            "\n",
            "[%] Downloading Image #27 from http://i1.wp.com/cakeisnotalie.net/wp-content/uploads/2018/01/HorseWithAnIceCreamCone.jpg\n",
            "[%] File Downloaded !\n",
            "\n",
            "[%] Downloading Image #28 from https://www.birthdaycakeshop.com.au/wp-content/uploads/2018/08/ucone1.jpg\n",
            "[%] File Downloaded !\n",
            "\n",
            "[%] Downloading Image #29 from https://cdn.cltampa.com/files/base/scomm/cltampa/image/2016/09/9x16/960w/Server_lights_a_Black_Rock_Volcano_dessert__Brownie_with_ice_cream__marshmellow__waffle_cone__and_whipped_cream_drizzled_with_caramel_and_chocolate_sauce.57cd8a3c70dcd.jpg\n",
            "[%] File Downloaded !\n",
            "\n",
            "[%] Downloading Image #30 from http://www.disneyfoodblog.com/wp-content/uploads/2018/11/Gibson-Girl-Christmas-Holiday-Peppermint-Sundae-2018-001.jpg\n",
            "[%] File Downloaded !\n",
            "\n",
            "\n",
            "\n",
            "[%] Done. Downloaded 30 images.\n",
            "\n",
            "===============================================\n",
            "\n",
            "time: 7.78 s (started: 2021-03-21 17:47:08 +00:00)\n"
          ],
          "name": "stdout"
        }
      ]
    },
    {
      "cell_type": "code",
      "metadata": {
        "colab": {
          "base_uri": "https://localhost:8080/"
        },
        "id": "iUVyUkOCp8Fj",
        "outputId": "0b7e39f3-6ccf-493a-8751-e3d7fedbf885"
      },
      "source": [
        "#7. Downloading the Third Image\n",
        "downloader.download(\"rugby ball leather\",limit = 60, output_dir = 'images', adult_filter_off = True)"
      ],
      "execution_count": 7,
      "outputs": [
        {
          "output_type": "stream",
          "text": [
            "\n",
            "\n",
            "[!!]Indexing page: 1\n",
            "\n",
            "[%] Indexed 12 Images on Page 1.\n",
            "\n",
            "===============================================\n",
            "\n",
            "[%] Downloading Image #1 from https://img1.etsystatic.com/013/0/7864717/il_570xN.431074825_ewio.jpg\n",
            "[Error]Invalid image, not saving https://img1.etsystatic.com/013/0/7864717/il_570xN.431074825_ewio.jpg\n",
            "\n",
            "[!] Issue getting: https://img1.etsystatic.com/013/0/7864717/il_570xN.431074825_ewio.jpg\n",
            "[!] Error:: No active exception to reraise\n",
            "[%] Downloading Image #1 from https://cdn.shopify.com/s/files/1/0226/2169/products/Naismith_2048x2048_V3_1024x1024.jpg?v=1556562051\n",
            "[%] File Downloaded !\n",
            "\n",
            "[%] Downloading Image #2 from http://4.bp.blogspot.com/-F3Bvwkp5WSc/UE38SD2VIJI/AAAAAAAAA1A/GjnIOyYI2js/s1600/test_cb_edited-1.jpg\n",
            "[%] File Downloaded !\n",
            "\n",
            "[%] Downloading Image #3 from https://images.antiquesatlas.com/dealer-stock-images/puckeringsantiques/Antique_Novelty_Travel_Inkwell_as584a1568z-1.jpg\n",
            "[%] File Downloaded !\n",
            "\n",
            "[%] Downloading Image #4 from https://i2-prod.mirror.co.uk/incoming/article10107384.ece/ALTERNATES/s1200/PAY-Torture-King.jpg\n",
            "[%] File Downloaded !\n",
            "\n",
            "[%] Downloading Image #5 from https://cdn.shopify.com/s/files/1/0788/5979/products/mvp-boxing-retro-heritage-brown-leather-boxing-gloves-lace-up-1_grande.jpg?v=1567807330\n",
            "[%] File Downloaded !\n",
            "\n",
            "[%] Downloading Image #6 from https://1.bp.blogspot.com/_5DeO0c-n7js/SaHmjLnZWFI/AAAAAAAAABE/oOVbaGI0Y9I/s320/uniform.jpg\n",
            "[%] File Downloaded !\n",
            "\n",
            "[%] Downloading Image #7 from https://www.sportsballshop.co.uk/acatalog/DukesPrince.jpg\n",
            "[%] File Downloaded !\n",
            "\n",
            "[%] Downloading Image #8 from https://static.vecteezy.com/system/resources/previews/000/106/218/original/sports-vector-balls.jpg\n",
            "[%] File Downloaded !\n",
            "\n",
            "[%] Downloading Image #9 from https://cdn-attachments.timesofmalta.com/fashion-beauty_01_temp-1341834902-4ffac696-620x348.jpg\n",
            "[%] File Downloaded !\n",
            "\n",
            "[%] Downloading Image #10 from https://static.vecteezy.com/system/resources/previews/000/551/060/non_2x/american-football-vector-icon.jpg\n",
            "[%] File Downloaded !\n",
            "\n",
            "[%] Downloading Image #11 from http://3o7tpx32lt6v2lcovs4a53lb.wpengine.netdna-cdn.com/wp-content/uploads/2015/03/Sham-shui-po-3.jpg\n",
            "[%] File Downloaded !\n",
            "\n",
            "\n",
            "\n",
            "[!!]Indexing page: 2\n",
            "\n",
            "[%] Indexed 12 Images on Page 2.\n",
            "\n",
            "===============================================\n",
            "\n",
            "[%] Downloading Image #12 from https://img1.etsystatic.com/013/0/7864717/il_570xN.431074825_ewio.jpg\n",
            "[Error]Invalid image, not saving https://img1.etsystatic.com/013/0/7864717/il_570xN.431074825_ewio.jpg\n",
            "\n",
            "[!] Issue getting: https://img1.etsystatic.com/013/0/7864717/il_570xN.431074825_ewio.jpg\n",
            "[!] Error:: No active exception to reraise\n",
            "[%] Downloading Image #12 from https://cdn.shopify.com/s/files/1/0226/2169/products/Naismith_2048x2048_V3_1024x1024.jpg?v=1556562051\n",
            "[%] File Downloaded !\n",
            "\n",
            "[%] Downloading Image #13 from http://4.bp.blogspot.com/-F3Bvwkp5WSc/UE38SD2VIJI/AAAAAAAAA1A/GjnIOyYI2js/s1600/test_cb_edited-1.jpg\n",
            "[%] File Downloaded !\n",
            "\n",
            "[%] Downloading Image #14 from https://images.antiquesatlas.com/dealer-stock-images/puckeringsantiques/Antique_Novelty_Travel_Inkwell_as584a1568z-1.jpg\n",
            "[%] File Downloaded !\n",
            "\n",
            "[%] Downloading Image #15 from https://i2-prod.mirror.co.uk/incoming/article10107384.ece/ALTERNATES/s1200/PAY-Torture-King.jpg\n",
            "[%] File Downloaded !\n",
            "\n",
            "[%] Downloading Image #16 from https://cdn.shopify.com/s/files/1/0788/5979/products/mvp-boxing-retro-heritage-brown-leather-boxing-gloves-lace-up-1_grande.jpg?v=1567807330\n",
            "[%] File Downloaded !\n",
            "\n",
            "[%] Downloading Image #17 from https://1.bp.blogspot.com/_5DeO0c-n7js/SaHmjLnZWFI/AAAAAAAAABE/oOVbaGI0Y9I/s320/uniform.jpg\n",
            "[%] File Downloaded !\n",
            "\n",
            "[%] Downloading Image #18 from https://www.sportsballshop.co.uk/acatalog/DukesPrince.jpg\n",
            "[%] File Downloaded !\n",
            "\n",
            "[%] Downloading Image #19 from https://static.vecteezy.com/system/resources/previews/000/106/218/original/sports-vector-balls.jpg\n",
            "[%] File Downloaded !\n",
            "\n",
            "[%] Downloading Image #20 from https://cdn-attachments.timesofmalta.com/fashion-beauty_01_temp-1341834902-4ffac696-620x348.jpg\n",
            "[%] File Downloaded !\n",
            "\n",
            "[%] Downloading Image #21 from https://static.vecteezy.com/system/resources/previews/000/551/060/non_2x/american-football-vector-icon.jpg\n",
            "[%] File Downloaded !\n",
            "\n",
            "[%] Downloading Image #22 from http://3o7tpx32lt6v2lcovs4a53lb.wpengine.netdna-cdn.com/wp-content/uploads/2015/03/Sham-shui-po-3.jpg\n",
            "[%] File Downloaded !\n",
            "\n",
            "\n",
            "\n",
            "[!!]Indexing page: 3\n",
            "\n",
            "[%] Indexed 11 Images on Page 3.\n",
            "\n",
            "===============================================\n",
            "\n",
            "[%] Downloading Image #23 from https://cdn.shopify.com/s/files/1/0226/2169/products/Naismith_2048x2048_V3_1024x1024.jpg?v=1556562051\n",
            "[%] File Downloaded !\n",
            "\n",
            "[%] Downloading Image #24 from http://4.bp.blogspot.com/-F3Bvwkp5WSc/UE38SD2VIJI/AAAAAAAAA1A/GjnIOyYI2js/s1600/test_cb_edited-1.jpg\n",
            "[%] File Downloaded !\n",
            "\n",
            "[%] Downloading Image #25 from https://images.antiquesatlas.com/dealer-stock-images/puckeringsantiques/Antique_Novelty_Travel_Inkwell_as584a1568z-1.jpg\n",
            "[%] File Downloaded !\n",
            "\n",
            "[%] Downloading Image #26 from https://i2-prod.mirror.co.uk/incoming/article10107384.ece/ALTERNATES/s1200/PAY-Torture-King.jpg\n",
            "[%] File Downloaded !\n",
            "\n",
            "[%] Downloading Image #27 from https://cdn.shopify.com/s/files/1/0788/5979/products/mvp-boxing-retro-heritage-brown-leather-boxing-gloves-lace-up-1_grande.jpg?v=1567807330\n",
            "[%] File Downloaded !\n",
            "\n",
            "[%] Downloading Image #28 from https://1.bp.blogspot.com/_5DeO0c-n7js/SaHmjLnZWFI/AAAAAAAAABE/oOVbaGI0Y9I/s320/uniform.jpg\n",
            "[%] File Downloaded !\n",
            "\n",
            "[%] Downloading Image #29 from https://www.sportsballshop.co.uk/acatalog/DukesPrince.jpg\n",
            "[%] File Downloaded !\n",
            "\n",
            "[%] Downloading Image #30 from https://static.vecteezy.com/system/resources/previews/000/106/218/original/sports-vector-balls.jpg\n",
            "[%] File Downloaded !\n",
            "\n",
            "[%] Downloading Image #31 from https://cdn-attachments.timesofmalta.com/fashion-beauty_01_temp-1341834902-4ffac696-620x348.jpg\n",
            "[%] File Downloaded !\n",
            "\n",
            "[%] Downloading Image #32 from https://static.vecteezy.com/system/resources/previews/000/551/060/non_2x/american-football-vector-icon.jpg\n",
            "[%] File Downloaded !\n",
            "\n",
            "[%] Downloading Image #33 from http://3o7tpx32lt6v2lcovs4a53lb.wpengine.netdna-cdn.com/wp-content/uploads/2015/03/Sham-shui-po-3.jpg\n",
            "[%] File Downloaded !\n",
            "\n",
            "\n",
            "\n",
            "[!!]Indexing page: 4\n",
            "\n",
            "[%] Indexed 10 Images on Page 4.\n",
            "\n",
            "===============================================\n",
            "\n",
            "[%] Downloading Image #34 from http://4.bp.blogspot.com/-F3Bvwkp5WSc/UE38SD2VIJI/AAAAAAAAA1A/GjnIOyYI2js/s1600/test_cb_edited-1.jpg\n",
            "[%] File Downloaded !\n",
            "\n",
            "[%] Downloading Image #35 from https://images.antiquesatlas.com/dealer-stock-images/puckeringsantiques/Antique_Novelty_Travel_Inkwell_as584a1568z-1.jpg\n",
            "[%] File Downloaded !\n",
            "\n",
            "[%] Downloading Image #36 from https://i2-prod.mirror.co.uk/incoming/article10107384.ece/ALTERNATES/s1200/PAY-Torture-King.jpg\n",
            "[%] File Downloaded !\n",
            "\n",
            "[%] Downloading Image #37 from https://cdn.shopify.com/s/files/1/0788/5979/products/mvp-boxing-retro-heritage-brown-leather-boxing-gloves-lace-up-1_grande.jpg?v=1567807330\n",
            "[%] File Downloaded !\n",
            "\n",
            "[%] Downloading Image #38 from https://1.bp.blogspot.com/_5DeO0c-n7js/SaHmjLnZWFI/AAAAAAAAABE/oOVbaGI0Y9I/s320/uniform.jpg\n",
            "[%] File Downloaded !\n",
            "\n",
            "[%] Downloading Image #39 from https://www.sportsballshop.co.uk/acatalog/DukesPrince.jpg\n",
            "[%] File Downloaded !\n",
            "\n",
            "[%] Downloading Image #40 from https://static.vecteezy.com/system/resources/previews/000/106/218/original/sports-vector-balls.jpg\n",
            "[%] File Downloaded !\n",
            "\n",
            "[%] Downloading Image #41 from https://cdn-attachments.timesofmalta.com/fashion-beauty_01_temp-1341834902-4ffac696-620x348.jpg\n",
            "[%] File Downloaded !\n",
            "\n",
            "[%] Downloading Image #42 from https://static.vecteezy.com/system/resources/previews/000/551/060/non_2x/american-football-vector-icon.jpg\n",
            "[%] File Downloaded !\n",
            "\n",
            "[%] Downloading Image #43 from http://3o7tpx32lt6v2lcovs4a53lb.wpengine.netdna-cdn.com/wp-content/uploads/2015/03/Sham-shui-po-3.jpg\n",
            "[%] File Downloaded !\n",
            "\n",
            "\n",
            "\n",
            "[!!]Indexing page: 5\n",
            "\n",
            "[%] Indexed 9 Images on Page 5.\n",
            "\n",
            "===============================================\n",
            "\n",
            "[%] Downloading Image #44 from https://images.antiquesatlas.com/dealer-stock-images/puckeringsantiques/Antique_Novelty_Travel_Inkwell_as584a1568z-1.jpg\n",
            "[%] File Downloaded !\n",
            "\n",
            "[%] Downloading Image #45 from https://i2-prod.mirror.co.uk/incoming/article10107384.ece/ALTERNATES/s1200/PAY-Torture-King.jpg\n",
            "[%] File Downloaded !\n",
            "\n",
            "[%] Downloading Image #46 from https://cdn.shopify.com/s/files/1/0788/5979/products/mvp-boxing-retro-heritage-brown-leather-boxing-gloves-lace-up-1_grande.jpg?v=1567807330\n",
            "[%] File Downloaded !\n",
            "\n",
            "[%] Downloading Image #47 from https://1.bp.blogspot.com/_5DeO0c-n7js/SaHmjLnZWFI/AAAAAAAAABE/oOVbaGI0Y9I/s320/uniform.jpg\n",
            "[%] File Downloaded !\n",
            "\n",
            "[%] Downloading Image #48 from https://www.sportsballshop.co.uk/acatalog/DukesPrince.jpg\n",
            "[%] File Downloaded !\n",
            "\n",
            "[%] Downloading Image #49 from https://static.vecteezy.com/system/resources/previews/000/106/218/original/sports-vector-balls.jpg\n",
            "[%] File Downloaded !\n",
            "\n",
            "[%] Downloading Image #50 from https://cdn-attachments.timesofmalta.com/fashion-beauty_01_temp-1341834902-4ffac696-620x348.jpg\n",
            "[%] File Downloaded !\n",
            "\n",
            "[%] Downloading Image #51 from https://static.vecteezy.com/system/resources/previews/000/551/060/non_2x/american-football-vector-icon.jpg\n",
            "[%] File Downloaded !\n",
            "\n",
            "[%] Downloading Image #52 from http://3o7tpx32lt6v2lcovs4a53lb.wpengine.netdna-cdn.com/wp-content/uploads/2015/03/Sham-shui-po-3.jpg\n",
            "[%] File Downloaded !\n",
            "\n",
            "\n",
            "\n",
            "[!!]Indexing page: 6\n",
            "\n",
            "[%] Indexed 8 Images on Page 6.\n",
            "\n",
            "===============================================\n",
            "\n",
            "[%] Downloading Image #53 from https://i2-prod.mirror.co.uk/incoming/article10107384.ece/ALTERNATES/s1200/PAY-Torture-King.jpg\n",
            "[%] File Downloaded !\n",
            "\n",
            "[%] Downloading Image #54 from https://cdn.shopify.com/s/files/1/0788/5979/products/mvp-boxing-retro-heritage-brown-leather-boxing-gloves-lace-up-1_grande.jpg?v=1567807330\n",
            "[%] File Downloaded !\n",
            "\n",
            "[%] Downloading Image #55 from https://1.bp.blogspot.com/_5DeO0c-n7js/SaHmjLnZWFI/AAAAAAAAABE/oOVbaGI0Y9I/s320/uniform.jpg\n",
            "[%] File Downloaded !\n",
            "\n",
            "[%] Downloading Image #56 from https://www.sportsballshop.co.uk/acatalog/DukesPrince.jpg\n",
            "[%] File Downloaded !\n",
            "\n",
            "[%] Downloading Image #57 from https://static.vecteezy.com/system/resources/previews/000/106/218/original/sports-vector-balls.jpg\n",
            "[%] File Downloaded !\n",
            "\n",
            "[%] Downloading Image #58 from https://cdn-attachments.timesofmalta.com/fashion-beauty_01_temp-1341834902-4ffac696-620x348.jpg\n",
            "[%] File Downloaded !\n",
            "\n",
            "[%] Downloading Image #59 from https://static.vecteezy.com/system/resources/previews/000/551/060/non_2x/american-football-vector-icon.jpg\n",
            "[%] File Downloaded !\n",
            "\n",
            "[%] Downloading Image #60 from http://3o7tpx32lt6v2lcovs4a53lb.wpengine.netdna-cdn.com/wp-content/uploads/2015/03/Sham-shui-po-3.jpg\n",
            "[%] File Downloaded !\n",
            "\n",
            "time: 10.6 s (started: 2021-03-21 17:47:31 +00:00)\n"
          ],
          "name": "stdout"
        }
      ]
    },
    {
      "cell_type": "code",
      "metadata": {
        "colab": {
          "base_uri": "https://localhost:8080/"
        },
        "id": "8oNqHhCUp8JO",
        "outputId": "4bc52dc5-4661-4144-bd4a-8c16a34765c7"
      },
      "source": [
        "#8. Eight Step :\n",
        "import os\n",
        "import matplotlib.pyplot as plt\n",
        "import numpy as np\n",
        "from skimage.io import imread\n",
        "from skimage.transform import resize\n",
        "\n",
        "target = []\n",
        "images = []\n",
        "flat_data = []\n",
        "DATADIR = '/content/images'\n",
        "CATEGORIES = ['ice cream cone', 'pretty sunflower', 'rugby ball leather']\n",
        "\n",
        "for category in CATEGORIES :\n",
        "  class_num = CATEGORIES.index(category)\n",
        "  path = os.path.join(DATADIR,category)\n",
        "  for img in os.listdir(path):\n",
        "    img_array = imread(os.path.join(path,img))\n",
        "    img_resized = resize(img_array,(120,120,3))\n",
        "    flat_data.append(img_resized.flatten())\n",
        "    images.append(img_resized)\n",
        "    target.append(class_num)\n",
        "\n",
        "flat_data = np.array(flat_data)\n",
        "target = np.array(target)\n",
        "images = np.array(images)"
      ],
      "execution_count": 9,
      "outputs": [
        {
          "output_type": "stream",
          "text": [
            "time: 32.4 s (started: 2021-03-21 17:48:46 +00:00)\n"
          ],
          "name": "stdout"
        }
      ]
    },
    {
      "cell_type": "code",
      "metadata": {
        "colab": {
          "base_uri": "https://localhost:8080/"
        },
        "id": "im2ljF1Mp8MH",
        "outputId": "6467ca38-3417-4cd2-8f3a-9e386377eb98"
      },
      "source": [
        "#9. Nineth Step : Split the data into Training and Testing\n",
        "from sklearn.model_selection import train_test_split\n",
        "x_train,x_test,y_train,y_test = train_test_split(flat_data, target, test_size = 0.3, random_state = 109)"
      ],
      "execution_count": 10,
      "outputs": [
        {
          "output_type": "stream",
          "text": [
            "time: 264 ms (started: 2021-03-21 17:49:27 +00:00)\n"
          ],
          "name": "stdout"
        }
      ]
    },
    {
      "cell_type": "code",
      "metadata": {
        "colab": {
          "base_uri": "https://localhost:8080/"
        },
        "id": "7K1BEZW1p8Ox",
        "outputId": "c5aedebf-3801-4420-deae-1098bd88ac33"
      },
      "source": [
        "#10. Tenth Step :\n",
        "from sklearn.model_selection import GridSearchCV\n",
        "from sklearn import svm\n",
        "param_grid = [\n",
        "              {'C':[1,10,100,1000],'kernel':['linear']},\n",
        "              {'C':[1,10,100,1000], 'gamma':[0.001,0.0001], 'kernel':['rbf']}\n",
        "]\n",
        "svc = svm.SVC(probability = True)\n",
        "clf = GridSearchCV(svc,param_grid)\n",
        "clf.fit(x_train,y_train)"
      ],
      "execution_count": 11,
      "outputs": [
        {
          "output_type": "execute_result",
          "data": {
            "text/plain": [
              "GridSearchCV(cv=None, error_score=nan,\n",
              "             estimator=SVC(C=1.0, break_ties=False, cache_size=200,\n",
              "                           class_weight=None, coef0=0.0,\n",
              "                           decision_function_shape='ovr', degree=3,\n",
              "                           gamma='scale', kernel='rbf', max_iter=-1,\n",
              "                           probability=True, random_state=None, shrinking=True,\n",
              "                           tol=0.001, verbose=False),\n",
              "             iid='deprecated', n_jobs=None,\n",
              "             param_grid=[{'C': [1, 10, 100, 1000], 'kernel': ['linear']},\n",
              "                         {'C': [1, 10, 100, 1000], 'gamma': [0.001, 0.0001],\n",
              "                          'kernel': ['rbf']}],\n",
              "             pre_dispatch='2*n_jobs', refit=True, return_train_score=False,\n",
              "             scoring=None, verbose=0)"
            ]
          },
          "metadata": {
            "tags": []
          },
          "execution_count": 11
        },
        {
          "output_type": "stream",
          "text": [
            "time: 1min 58s (started: 2021-03-21 17:49:32 +00:00)\n"
          ],
          "name": "stdout"
        }
      ]
    },
    {
      "cell_type": "code",
      "metadata": {
        "colab": {
          "base_uri": "https://localhost:8080/"
        },
        "id": "Y5mb7ahIp8Zr",
        "outputId": "ab710101-8946-4fca-8a5a-49085b16dce5"
      },
      "source": [
        "#11. Eleven Step :\n",
        "y_pred = clf.predict(x_test)\n",
        "y_pred"
      ],
      "execution_count": 12,
      "outputs": [
        {
          "output_type": "execute_result",
          "data": {
            "text/plain": [
              "array([2, 1, 2, 0, 2, 1, 1, 2, 1, 2, 2, 1, 1, 0, 0, 0, 1, 2, 0, 1, 1, 0,\n",
              "       2, 0, 1, 1, 2, 1, 1, 2, 2, 2, 1, 2, 2, 1, 1, 2, 2, 1, 2, 1, 2, 2,\n",
              "       0])"
            ]
          },
          "metadata": {
            "tags": []
          },
          "execution_count": 12
        },
        {
          "output_type": "stream",
          "text": [
            "time: 136 ms (started: 2021-03-21 17:51:41 +00:00)\n"
          ],
          "name": "stdout"
        }
      ]
    },
    {
      "cell_type": "code",
      "metadata": {
        "colab": {
          "base_uri": "https://localhost:8080/"
        },
        "id": "VS7Qy2lJp8dN",
        "outputId": "5ae8a196-2dbc-48cc-c068-97466bc38a32"
      },
      "source": [
        "#12. Twelve Step :\n",
        "y_test"
      ],
      "execution_count": 13,
      "outputs": [
        {
          "output_type": "execute_result",
          "data": {
            "text/plain": [
              "array([2, 1, 2, 0, 2, 1, 1, 2, 1, 2, 2, 1, 1, 0, 0, 0, 1, 2, 0, 1, 1, 0,\n",
              "       2, 0, 1, 1, 2, 1, 1, 2, 2, 2, 1, 2, 2, 1, 1, 2, 2, 1, 2, 1, 2, 2,\n",
              "       0])"
            ]
          },
          "metadata": {
            "tags": []
          },
          "execution_count": 13
        },
        {
          "output_type": "stream",
          "text": [
            "time: 10.6 ms (started: 2021-03-21 17:51:46 +00:00)\n"
          ],
          "name": "stdout"
        }
      ]
    },
    {
      "cell_type": "code",
      "metadata": {
        "colab": {
          "base_uri": "https://localhost:8080/"
        },
        "id": "lD3VOx7Zp8gB",
        "outputId": "4bfca839-89e4-4c95-8c3e-a4b96b0a16d7"
      },
      "source": [
        "#13. Thirten Step :\n",
        "from sklearn.metrics import accuracy_score,confusion_matrix"
      ],
      "execution_count": 14,
      "outputs": [
        {
          "output_type": "stream",
          "text": [
            "time: 1.8 ms (started: 2021-03-21 17:51:51 +00:00)\n"
          ],
          "name": "stdout"
        }
      ]
    },
    {
      "cell_type": "code",
      "metadata": {
        "colab": {
          "base_uri": "https://localhost:8080/"
        },
        "id": "PLra-gfOp8jL",
        "outputId": "81981472-cff8-4552-d3fc-1355742a44c0"
      },
      "source": [
        "#14. Fourtenth Step :\n",
        "accuracy_score(y_pred,y_test)"
      ],
      "execution_count": 15,
      "outputs": [
        {
          "output_type": "execute_result",
          "data": {
            "text/plain": [
              "1.0"
            ]
          },
          "metadata": {
            "tags": []
          },
          "execution_count": 15
        },
        {
          "output_type": "stream",
          "text": [
            "time: 16.7 ms (started: 2021-03-21 17:51:56 +00:00)\n"
          ],
          "name": "stdout"
        }
      ]
    },
    {
      "cell_type": "code",
      "metadata": {
        "colab": {
          "base_uri": "https://localhost:8080/"
        },
        "id": "r9uxixPhp8mf",
        "outputId": "33f157b1-ddf3-43ef-e3fc-3e32acc4fc7a"
      },
      "source": [
        "#15. Fiftenth Step :\n",
        "confusion_matrix(y_pred,y_test)"
      ],
      "execution_count": 16,
      "outputs": [
        {
          "output_type": "execute_result",
          "data": {
            "text/plain": [
              "array([[ 8,  0,  0],\n",
              "       [ 0, 18,  0],\n",
              "       [ 0,  0, 19]])"
            ]
          },
          "metadata": {
            "tags": []
          },
          "execution_count": 16
        },
        {
          "output_type": "stream",
          "text": [
            "time: 5.29 ms (started: 2021-03-21 17:51:59 +00:00)\n"
          ],
          "name": "stdout"
        }
      ]
    },
    {
      "cell_type": "code",
      "metadata": {
        "colab": {
          "base_uri": "https://localhost:8080/"
        },
        "id": "XvQdJXAw77oS",
        "outputId": "c75dcf38-0b54-4dce-9934-698c8fd36626"
      },
      "source": [
        "# To define pickle :\n",
        "import pickle\n",
        "pickle.dump(clf,open('img_model.p','wb'))"
      ],
      "execution_count": 18,
      "outputs": [
        {
          "output_type": "stream",
          "text": [
            "time: 21.4 ms (started: 2021-03-21 18:00:54 +00:00)\n"
          ],
          "name": "stdout"
        }
      ]
    },
    {
      "cell_type": "code",
      "metadata": {
        "colab": {
          "base_uri": "https://localhost:8080/"
        },
        "id": "vIzxUabY8MX8",
        "outputId": "f7a81b47-bbea-4c79-849d-440a1e6b2e8b"
      },
      "source": [
        "#To define modle :\n",
        "model = pickle.load(open('img_model.p','rb'))"
      ],
      "execution_count": 19,
      "outputs": [
        {
          "output_type": "stream",
          "text": [
            "time: 12.3 ms (started: 2021-03-21 18:00:58 +00:00)\n"
          ],
          "name": "stdout"
        }
      ]
    },
    {
      "cell_type": "code",
      "metadata": {
        "colab": {
          "base_uri": "https://localhost:8080/",
          "height": 335
        },
        "id": "vvXn4KNqp_tM",
        "outputId": "088326d8-4dc8-4b87-c36f-644e649e18ac"
      },
      "source": [
        "#16. Sixtenth Step :\n",
        "# Final step to Test any random image\n",
        "flat_data = []\n",
        "url = input('ENTER YOUR IMAGE URL :')\n",
        "img = imread(url)\n",
        "img_resized = resize(img,(120,120,3))\n",
        "flat_data.append(img_resized.flatten())\n",
        "flat_data = np.array(flat_data)\n",
        "print(img.shape)\n",
        "plt.imshow(img_resized)\n",
        "y_out = model.predict(flat_data)\n",
        "y_out = CATEGORIES[y_out[0]]\n",
        "print(f'PREDICTED OUTPUT OF THE IMAGE IS : {y_out}')"
      ],
      "execution_count": 21,
      "outputs": [
        {
          "output_type": "stream",
          "text": [
            "ENTER YOUR IMAGE URL :https://5.imimg.com/data5/EO/WH/MY-31473988/strawberry-ice-cream-cone-250x250.jpg\n",
            "(250, 250, 3)\n",
            "PREDICTED OUTPUT OF THE IMAGE IS : ice cream cone\n"
          ],
          "name": "stdout"
        },
        {
          "output_type": "display_data",
          "data": {
            "image/png": "[encoded data removed]",
            "text/plain": [
              "<Figure size 432x288 with 1 Axes>"
            ]
          },
          "metadata": {
            "tags": [],
            "needs_background": "light"
          }
        },
        {
          "output_type": "stream",
          "text": [
            "time: 3.88 s (started: 2021-03-21 18:01:37 +00:00)\n"
          ],
          "name": "stdout"
        }
      ]
    },
    {
      "cell_type": "code",
      "metadata": {
        "id": "KSq3WyXSp_5L"
      },
      "source": [
        ""
      ],
      "execution_count": null,
      "outputs": []
    },
    {
      "cell_type": "code",
      "metadata": {
        "id": "KEUS_oz8qAAL"
      },
      "source": [
        ""
      ],
      "execution_count": null,
      "outputs": []
    },
    {
      "cell_type": "code",
      "metadata": {
        "id": "fF2D50ktqAHM"
      },
      "source": [
        ""
      ],
      "execution_count": null,
      "outputs": []
    },
    {
      "cell_type": "code",
      "metadata": {
        "id": "bMzHsQS6qAN1"
      },
      "source": [
        ""
      ],
      "execution_count": null,
      "outputs": []
    },
    {
      "cell_type": "code",
      "metadata": {
        "id": "XdDDbtxpqAU8"
      },
      "source": [
        ""
      ],
      "execution_count": null,
      "outputs": []
    },
    {
      "cell_type": "code",
      "metadata": {
        "id": "6HECKwGMqAaY"
      },
      "source": [
        ""
      ],
      "execution_count": null,
      "outputs": []
    },
    {
      "cell_type": "code",
      "metadata": {
        "id": "8Y5QRRcWqAg1"
      },
      "source": [
        ""
      ],
      "execution_count": null,
      "outputs": []
    },
    {
      "cell_type": "code",
      "metadata": {
        "id": "Xock2UVSqAnT"
      },
      "source": [
        ""
      ],
      "execution_count": null,
      "outputs": []
    }
  ]
}